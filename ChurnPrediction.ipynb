{
  "nbformat": 4,
  "nbformat_minor": 0,
  "metadata": {
    "colab": {
      "provenance": [],
      "authorship_tag": "ABX9TyP5UcD1Mc74qX1gT29TPOjn",
      "include_colab_link": true
    },
    "kernelspec": {
      "name": "python3",
      "display_name": "Python 3"
    },
    "language_info": {
      "name": "python"
    }
  },
  "cells": [
    {
      "cell_type": "markdown",
      "metadata": {
        "id": "view-in-github",
        "colab_type": "text"
      },
      "source": [
        "<a href=\"https://colab.research.google.com/github/hanieranjbar/snappfood_task/blob/main/ChurnPrediction.ipynb\" target=\"_parent\"><img src=\"https://colab.research.google.com/assets/colab-badge.svg\" alt=\"Open In Colab\"/></a>"
      ]
    },
    {
      "cell_type": "code",
      "execution_count": 1,
      "metadata": {
        "colab": {
          "base_uri": "https://localhost:8080/"
        },
        "id": "9xZTjCod1O4Q",
        "outputId": "d2bf5414-3223-48dc-87e0-a3c4cc75d0a5"
      },
      "outputs": [
        {
          "output_type": "stream",
          "name": "stderr",
          "text": [
            "/usr/local/lib/python3.10/dist-packages/sklearn/base.py:474: FutureWarning: `BaseEstimator._validate_data` is deprecated in 1.6 and will be removed in 1.7. Use `sklearn.utils.validation.validate_data` instead. This function becomes public and is part of the scikit-learn developer API.\n",
            "  warnings.warn(\n",
            "/usr/local/lib/python3.10/dist-packages/sklearn/utils/_tags.py:354: FutureWarning: The SMOTE or classes from which it inherits use `_get_tags` and `_more_tags`. Please define the `__sklearn_tags__` method, or inherit from `sklearn.base.BaseEstimator` and/or other appropriate mixins such as `sklearn.base.TransformerMixin`, `sklearn.base.ClassifierMixin`, `sklearn.base.RegressorMixin`, and `sklearn.base.OutlierMixin`. From scikit-learn 1.7, not defining `__sklearn_tags__` will raise an error.\n",
            "  warnings.warn(\n"
          ]
        },
        {
          "output_type": "stream",
          "name": "stdout",
          "text": [
            "Churn Model Logistic Regression Accuracy: 0.57\n",
            "Churn Logistic Regression Classification Report:\n",
            "               precision    recall  f1-score   support\n",
            "\n",
            "           0       0.91      0.58      0.71       182\n",
            "           1       0.10      0.44      0.16        18\n",
            "\n",
            "    accuracy                           0.57       200\n",
            "   macro avg       0.50      0.51      0.43       200\n",
            "weighted avg       0.84      0.57      0.66       200\n",
            "\n",
            "Churn Logistic Regression Confusion Matrix:\n",
            " [[106  76]\n",
            " [ 10   8]]\n",
            "Churn Model Random Forest Accuracy: 0.81\n",
            "Churn Random Forest Classification Report:\n",
            "               precision    recall  f1-score   support\n",
            "\n",
            "           0       0.91      0.87      0.89       182\n",
            "           1       0.12      0.17      0.14        18\n",
            "\n",
            "    accuracy                           0.81       200\n",
            "   macro avg       0.51      0.52      0.51       200\n",
            "weighted avg       0.84      0.81      0.83       200\n",
            "\n",
            "Churn Random Forest Confusion Matrix:\n",
            " [[159  23]\n",
            " [ 15   3]]\n"
          ]
        }
      ],
      "source": [
        "import pandas as pd\n",
        "from sklearn.preprocessing import LabelEncoder\n",
        "from sklearn.model_selection import train_test_split\n",
        "from sklearn.preprocessing import StandardScaler\n",
        "from sklearn.linear_model import LogisticRegression\n",
        "from sklearn.ensemble import RandomForestClassifier\n",
        "from sklearn.metrics import classification_report, confusion_matrix, accuracy_score\n",
        "from imblearn.over_sampling import SMOTE\n",
        "from datetime import datetime\n",
        "\n",
        "churn_data = pd.read_csv(\"dataset_churned.csv\")\n",
        "\n",
        "\n",
        "def calculate_days_from_start(row, reference_date):\n",
        "    start_date = datetime.strptime(row['subscription_start'], '%m/%d/%Y')\n",
        "    ref_date = datetime.strptime(reference_date, '%m/%d/%Y')\n",
        "    return (start_date - ref_date).days\n",
        "\n",
        "reference_date = \"1/1/2024\"\n",
        "churn_data['days_from_start'] = churn_data.apply(calculate_days_from_start, axis=1, reference_date=reference_date)\n",
        "\n",
        "le = LabelEncoder()\n",
        "churn_data['subscription_status'] = le.fit_transform(churn_data['subscription_status'])\n",
        "\n",
        "\n",
        "scaler = StandardScaler()\n",
        "churn_data[['total_orders', 'total_order_value', 'days_since_last_order', 'total_pro_orders', 'total_non_pro_orders']] = scaler.fit_transform(\n",
        "    churn_data[['total_orders', 'total_order_value', 'days_since_last_order', 'total_pro_orders', 'total_non_pro_orders']])\n",
        "\n",
        "X_churn = churn_data[['total_orders', 'total_order_value', 'days_since_last_order', 'total_pro_orders', 'total_non_pro_orders']]\n",
        "y_churn = churn_data['churned']\n",
        "\n",
        "\n",
        "X_train, X_test, y_train, y_test = train_test_split(X_churn, y_churn, test_size=0.2, random_state=42)\n",
        "\n",
        "\n",
        "smote = SMOTE()\n",
        "X_train_resampled, y_train_resampled = smote.fit_resample(X_train, y_train)\n",
        "\n",
        "logreg_model = LogisticRegression(class_weight='balanced')\n",
        "logreg_model.fit(X_train_resampled, y_train_resampled)\n",
        "\n",
        "y_pred_logreg = logreg_model.predict(X_test)\n",
        "\n",
        "rf_model = RandomForestClassifier(n_estimators=100, random_state=42, class_weight='balanced')\n",
        "rf_model.fit(X_train_resampled, y_train_resampled)\n",
        "\n",
        "y_pred_rf = rf_model.predict(X_test)\n",
        "\n",
        "print(\"Churn Model Logistic Regression Accuracy:\", accuracy_score(y_test, y_pred_logreg))\n",
        "print(\"Churn Logistic Regression Classification Report:\\n\", classification_report(y_test, y_pred_logreg))\n",
        "print(\"Churn Logistic Regression Confusion Matrix:\\n\", confusion_matrix(y_test, y_pred_logreg))\n",
        "\n",
        "print(\"Churn Model Random Forest Accuracy:\", accuracy_score(y_test, y_pred_rf))\n",
        "print(\"Churn Random Forest Classification Report:\\n\", classification_report(y_test, y_pred_rf))\n",
        "print(\"Churn Random Forest Confusion Matrix:\\n\", confusion_matrix(y_test, y_pred_rf))\n"
      ]
    }
  ]
}